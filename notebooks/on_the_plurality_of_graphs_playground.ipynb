{
 "cells": [
  {
   "cell_type": "markdown",
   "metadata": {},
   "source": [
    "## ON THE PLURALITY OF GRAPHS\n",
    "\n",
    "Small _network-based_ playground to create sample graphs on which to play Lewis signaling games ;-)"
   ]
  },
  {
   "cell_type": "markdown",
   "metadata": {},
   "source": [
    "### Installation and imports"
   ]
  },
  {
   "cell_type": "markdown",
   "metadata": {},
   "source": [
    "_First make sure we have networkx updated as v 2.0 had some API changes and we want to avoid troubles_"
   ]
  },
  {
   "cell_type": "code",
   "execution_count": 1,
   "metadata": {},
   "outputs": [],
   "source": [
    "# ! pip install networkx --upgrade"
   ]
  },
  {
   "cell_type": "markdown",
   "metadata": {},
   "source": [
    "_Install also the nice powerlaw package if we want to run also the power law analysis_"
   ]
  },
  {
   "cell_type": "code",
   "execution_count": 2,
   "metadata": {},
   "outputs": [],
   "source": [
    "# ! pip install powerlaw"
   ]
  },
  {
   "cell_type": "code",
   "execution_count": 3,
   "metadata": {},
   "outputs": [],
   "source": [
    "import networkx as nx\n",
    "import powerlaw\n",
    "import matplotlib.pyplot as plt\n",
    "import numpy as np\n",
    "from random import choice\n",
    "from scipy.special import softmax\n",
    "from collections import Counter\n",
    "import math"
   ]
  },
  {
   "cell_type": "code",
   "execution_count": 4,
   "metadata": {},
   "outputs": [],
   "source": [
    "%matplotlib inline"
   ]
  },
  {
   "cell_type": "markdown",
   "metadata": {},
   "source": [
    "### Simulation variables"
   ]
  },
  {
   "cell_type": "code",
   "execution_count": 5,
   "metadata": {},
   "outputs": [],
   "source": [
    "N_NODES = 1000\n",
    "NETWORK_PARAMS = dict()"
   ]
  },
  {
   "cell_type": "markdown",
   "metadata": {},
   "source": [
    "Settings for barabasi-albert graph - scale free with pref attachment\n",
    "\n",
    "https://en.wikipedia.org/wiki/Barab%C3%A1si%E2%80%93Albert_model\n",
    "\n",
    "https://networkx.github.io/documentation/stable/reference/generated/networkx.generators.random_graphs.barabasi_albert_graph.html?highlight=barabasi_albert_graph#networkx.generators.random_graphs.barabasi_albert_graph"
   ]
  },
  {
   "cell_type": "code",
   "execution_count": 6,
   "metadata": {},
   "outputs": [],
   "source": [
    "NETWORK_PARAMS['barabasi'] = [N_NODES, 5] "
   ]
  },
  {
   "cell_type": "markdown",
   "metadata": {},
   "source": [
    "Settings for Erdős–Rényi model - random graph\n",
    "\n",
    "https://en.wikipedia.org/wiki/Erd%C5%91s%E2%80%93R%C3%A9nyi_model\n",
    "\n",
    "https://networkx.github.io/documentation/stable/reference/generated/networkx.generators.random_graphs.erdos_renyi_graph.html?highlight=erdos_renyi_graph#networkx.generators.random_graphs.erdos_renyi_graph"
   ]
  },
  {
   "cell_type": "code",
   "execution_count": 7,
   "metadata": {},
   "outputs": [],
   "source": [
    "NETWORK_PARAMS['erdos'] = [N_NODES, 0.15]"
   ]
  },
  {
   "cell_type": "markdown",
   "metadata": {},
   "source": [
    "Settings for the Watts–Strogatz - \"small-world graph\", including short average path lengths and high clustering (six-degrees of separation kind of thing) \n",
    "\n",
    "https://en.wikipedia.org/wiki/Watts%E2%80%93Strogatz_model\n",
    "\n",
    "https://networkx.github.io/documentation/stable/reference/generated/networkx.generators.random_graphs.watts_strogatz_graph.html?highlight=watts_strogatz_graph#networkx.generators.random_graphs.watts_strogatz_graph"
   ]
  },
  {
   "cell_type": "code",
   "execution_count": 8,
   "metadata": {},
   "outputs": [],
   "source": [
    "NETWORK_PARAMS['watts'] = [N_NODES, 3, 0.1]"
   ]
  },
  {
   "cell_type": "markdown",
   "metadata": {},
   "source": [
    "### Some graph / chart / stats utils functions"
   ]
  },
  {
   "cell_type": "code",
   "execution_count": 9,
   "metadata": {},
   "outputs": [],
   "source": [
    "def draw_network(nx_graph, node_color='black', node_size=100, width=3):\n",
    "    options = {\n",
    "        'node_color': node_color,\n",
    "        'node_size': node_size,\n",
    "        'width': width\n",
    "    }\n",
    "    nx.draw(nx_graph, with_labels=True, font_weight='bold', **options)\n",
    "    plt.show()"
   ]
  },
  {
   "cell_type": "code",
   "execution_count": 10,
   "metadata": {},
   "outputs": [],
   "source": [
    "def get_all_degrees(nx_graph):\n",
    "    return [d for n, d in nx_graph.degree()]"
   ]
  },
  {
   "cell_type": "code",
   "execution_count": 11,
   "metadata": {},
   "outputs": [],
   "source": [
    "def plot_distribution(nx_graph, bins=20, label='My Graph'):\n",
    "    \"\"\"\n",
    "    Convenient function that retrieves all degree and bins them to visualize distribution\n",
    "    \"\"\" \n",
    "    all_degrees = get_all_degrees(nx_graph)\n",
    "    plt.hist(all_degrees, bins=bins)\n",
    "    plt.title(\"Frequency Distribution for {}\".format(label))\n",
    "    plt.show()"
   ]
  },
  {
   "cell_type": "code",
   "execution_count": 12,
   "metadata": {},
   "outputs": [],
   "source": [
    "def fit_power_law_to_data(data, alternative_distribution='lognormal', target_file=None):\n",
    "    \"\"\"\n",
    "    Use fantastic powerlaw package based on SFI paper -> https://arxiv.org/pdf/1305.0215.pdf\n",
    "    \"\"\"\n",
    "    # fit a discrete powerlaw here\n",
    "    results = powerlaw.Fit(data, discrete=True)\n",
    "    alpha = results.power_law.alpha\n",
    "    xmin = results.power_law.xmin\n",
    "    R, p = results.distribution_compare('power_law', alternative_distribution, normalized_ratio=True)\n",
    "    fig2 = results.plot_ccdf(color='b', linewidth=2)\n",
    "    results.power_law.plot_ccdf(color='r', linestyle='--', ax=fig2)\n",
    "    # save to disk if a path is specified\n",
    "    if target_file:\n",
    "        fig2.figure.savefig(target_file)\n",
    "    \n",
    "    return alpha, xmin, R, p, results.truncated_power_law.alpha"
   ]
  },
  {
   "cell_type": "markdown",
   "metadata": {},
   "source": [
    "### Interlude: Test out networkx general functions"
   ]
  },
  {
   "cell_type": "markdown",
   "metadata": {},
   "source": [
    "First, test out networkx generation capabilities on two types of graphs"
   ]
  },
  {
   "cell_type": "code",
   "execution_count": 13,
   "metadata": {},
   "outputs": [
    {
     "data": {
      "image/png": "[encoded data removed]",
      "text/plain": [
       "<Figure size 432x288 with 1 Axes>"
      ]
     },
     "metadata": {},
     "output_type": "display_data"
    }
   ],
   "source": [
    "# generate graph with params\n",
    "er = nx.erdos_renyi_graph(*NETWORK_PARAMS['erdos'])\n",
    "# plot distribution\n",
    "plot_distribution(er, bins=20, label='Erdős–Rényi graph')"
   ]
  },
  {
   "cell_type": "code",
   "execution_count": 14,
   "metadata": {},
   "outputs": [
    {
     "name": "stdout",
     "output_type": "stream",
     "text": [
      "4975\n"
     ]
    },
    {
     "data": {
      "image/png": "[encoded data removed]",
      "text/plain": [
       "<Figure size 432x288 with 1 Axes>"
      ]
     },
     "metadata": {},
     "output_type": "display_data"
    }
   ],
   "source": [
    "# generate graph with params\n",
    "ba = nx.barabasi_albert_graph(*NETWORK_PARAMS['barabasi'])\n",
    "print(ba.number_of_edges())\n",
    "# plot distribution\n",
    "plot_distribution(ba, bins=50, label='Barabasi-Albert graph')\n",
    "# fit a powerlaw"
   ]
  },
  {
   "cell_type": "markdown",
   "metadata": {},
   "source": [
    "_Check degree distribution using the nice powerlaw package from http://www.plosone.org/article/info%3Adoi%2F10.1371%2Fjournal.pone.0085777_"
   ]
  },
  {
   "cell_type": "code",
   "execution_count": 15,
   "metadata": {},
   "outputs": [
    {
     "name": "stderr",
     "output_type": "stream",
     "text": [
      "Calculating best minimal value for power law fit\n",
      "/Users/jacopotagliabue/anaconda3/lib/python3.6/site-packages/powerlaw.py:700: RuntimeWarning: invalid value encountered in true_divide\n",
      "  (Theoretical_CDF * (1 - Theoretical_CDF))\n",
      "/Users/jacopotagliabue/anaconda3/lib/python3.6/site-packages/powerlaw.py:700: RuntimeWarning: divide by zero encountered in true_divide\n",
      "  (Theoretical_CDF * (1 - Theoretical_CDF))\n"
     ]
    },
    {
     "name": "stdout",
     "output_type": "stream",
     "text": [
      "Alpha value for p-law: 2.7034785342246557\n",
      "Loglikelihood ratio between the two candidate distributions is 4.972613238884785, favoring powerlaw\n",
      "The significance value for the ratio is 6.605636265826152e-07\n"
     ]
    },
    {
     "data": {
      "image/png": "[encoded data removed]",
      "text/plain": [
       "<Figure size 432x288 with 1 Axes>"
      ]
     },
     "metadata": {},
     "output_type": "display_data"
    }
   ],
   "source": [
    "# check goodness of fit against a natural candidate -> see https://arxiv.org/pdf/1305.0215.pdf\n",
    "alternative_distribution = 'exponential'\n",
    "alpha, xmin, R, p, t_alpha = fit_power_law_to_data(get_all_degrees(ba), alternative_distribution=alternative_distribution)\n",
    "print(\"Alpha value for p-law: {}\".format(alpha))\n",
    "print(\"Loglikelihood ratio between the two candidate distributions is {}, favoring {}\".format(R,\n",
    "                                                                                             'powerlaw' if R > 0.0 else alternative_distribution))\n",
    "print(\"The significance value for the ratio is {}\".format(p))"
   ]
  },
  {
   "cell_type": "markdown",
   "metadata": {},
   "source": [
    "_As expected, the BA network is well-represented by the power-law distribution for degrees_"
   ]
  },
  {
   "cell_type": "markdown",
   "metadata": {},
   "source": [
    "Finally, not exactly fancy, but try to draw a small graph in case we need some charts later on..."
   ]
  },
  {
   "cell_type": "code",
   "execution_count": 16,
   "metadata": {},
   "outputs": [
    {
     "data": {
      "image/png": "[encoded data removed]",
      "text/plain": [
       "<Figure size 432x288 with 1 Axes>"
      ]
     },
     "metadata": {},
     "output_type": "display_data"
    }
   ],
   "source": [
    "g = nx.petersen_graph()\n",
    "draw_network(g)"
   ]
  },
  {
   "cell_type": "markdown",
   "metadata": {},
   "source": [
    "### Generating networks and sampling strategies"
   ]
  },
  {
   "cell_type": "code",
   "execution_count": 17,
   "metadata": {},
   "outputs": [],
   "source": [
    "def pick_random_nodes(nodes, n=1, weights=None):\n",
    "    \"\"\"\n",
    "    Return N nodes, if weights is specified choose the nodes with proportional probabilities\n",
    "    \"\"\"\n",
    "    # probabilities needs to sum up to 1...\n",
    "    probs = softmax(weights) if weights else None\n",
    "    return np.random.choice(nodes, n, p=probs)"
   ]
  },
  {
   "cell_type": "code",
   "execution_count": 18,
   "metadata": {},
   "outputs": [],
   "source": [
    "def get_network_by_type_and_settings(network_type, network_settings):\n",
    "    \"\"\"\n",
    "    Network type must be one of: erdos, watts, barabasi\n",
    "    \"\"\"\n",
    "    if network_type == 'erdos':\n",
    "        return nx.erdos_renyi_graph(*network_settings)\n",
    "    elif network_type == 'watts':\n",
    "        return nx.connected_watts_strogatz_graph(*network_settings)\n",
    "    elif network_type == 'barabasi':\n",
    "        return nx.barabasi_albert_graph(*network_settings)\n",
    "    else:\n",
    "        raise Exception(\"Unknown type: {}\".format(network_type))"
   ]
  },
  {
   "cell_type": "code",
   "execution_count": 19,
   "metadata": {},
   "outputs": [],
   "source": [
    "def calculate_network_centrality(nx_graph, centrality_metrics):\n",
    "    \"\"\"\n",
    "    centrality_metrics must be one of 'degree', 'pagerank', 'betweeness'\n",
    "    \n",
    "    return type is always a dict(node->measure of centrality)\n",
    "    \"\"\"\n",
    "    if centrality_metrics == 'degree':\n",
    "        return nx.degree_centrality(nx_graph)\n",
    "    elif centrality_metrics == 'betweeness':\n",
    "        return nx.betweenness_centrality(nx_graph)\n",
    "    elif centrality_metrics == 'pagerank':\n",
    "        return nx.pagerank_numpy(nx_graph)\n",
    "    else:\n",
    "        raise Exception(\"Unknown metrics: {}\".format(centrality_metrics))"
   ]
  },
  {
   "cell_type": "code",
   "execution_count": 20,
   "metadata": {},
   "outputs": [
    {
     "name": "stdout",
     "output_type": "stream",
     "text": [
      "Chosen topology is: erdos, with params: [1000, 0.15] and centrality: betweeness\n"
     ]
    }
   ],
   "source": [
    "# list options\n",
    "NETWORK_TOPOLOGIES = ['erdos', 'watts', 'barabasi']\n",
    "# pick one randomly here\n",
    "current_topology = choice(NETWORK_TOPOLOGIES)\n",
    "# list options\n",
    "CENTRALITY_MEASURES = ['degree', 'pagerank', 'betweeness']\n",
    "# pick one randomly here\n",
    "current_centrality_measure = choice(CENTRALITY_MEASURES)\n",
    "print(\"Chosen topology is: {}, with params: {} and centrality: {}\".format(current_topology, \n",
    "                                                                          NETWORK_PARAMS[current_topology],\n",
    "                                                                          current_centrality_measure))"
   ]
  },
  {
   "cell_type": "code",
   "execution_count": 21,
   "metadata": {},
   "outputs": [
    {
     "data": {
      "image/png": "[encoded data removed]",
      "text/plain": [
       "<Figure size 432x288 with 1 Axes>"
      ]
     },
     "metadata": {},
     "output_type": "display_data"
    },
    {
     "name": "stdout",
     "output_type": "stream",
     "text": [
      "0 0.0008324054632061739\n",
      "1 0.0009189749107172922\n",
      "2 0.0007926349034274502\n",
      "3 0.0008798457679345731\n",
      "4 0.000625970246449354\n",
      "5 0.0009529759829945856\n",
      "6 0.0009785121380216076\n",
      "7 0.0009427608930042217\n",
      "8 0.000921417253780342\n",
      "9 0.0008691381492504577\n"
     ]
    }
   ],
   "source": [
    "# generate network\n",
    "current_network = get_network_by_type_and_settings(current_topology, NETWORK_PARAMS[current_topology])\n",
    "# plot distribution\n",
    "plot_distribution(current_network, bins=20, label='\"{}\" topology'.format(current_topology))\n",
    "# get centrality\n",
    "node_2_centrality = calculate_network_centrality(current_network, current_centrality_measure)\n",
    "# print out some sample centrality values for debug\n",
    "for n in list(node_2_centrality.keys())[:10]:\n",
    "    print(n, node_2_centrality[n])"
   ]
  },
  {
   "cell_type": "code",
   "execution_count": 22,
   "metadata": {},
   "outputs": [],
   "source": [
    "def sample_neighbors_of_node(nx_graph, source_node, topn=1):\n",
    "    \"\"\"\n",
    "    Get neighboring nodes and then return N random ones up until the topn\n",
    "    \"\"\"\n",
    "    neighbors = [n for n in nx_graph.neighbors(source_node)]\n",
    "    # we shouldn't have disconnected graphs, but check to avoid weird things..\n",
    "    assert len(neighbors) > 0\n",
    "    \n",
    "    # check N are not less than the requested amount\n",
    "    if topn >= len(neighbors):\n",
    "        return neighbors\n",
    "    \n",
    "    # return random subset\n",
    "    return np.random.choice(neighbors, topn, replace=False)"
   ]
  },
  {
   "cell_type": "code",
   "execution_count": 23,
   "metadata": {},
   "outputs": [
    {
     "data": {
      "text/plain": [
       "(118, 736)"
      ]
     },
     "execution_count": 23,
     "metadata": {},
     "output_type": "execute_result"
    }
   ],
   "source": [
    "def sample_pair_randomly(nx_graph, verbose=False):\n",
    "    first_node = pick_random_nodes(list(nx_graph.nodes))[0]\n",
    "    second_node = sample_neighbors_of_node(nx_graph, first_node)[0]\n",
    "    if verbose:\n",
    "        print(\"Sampled {} and {}\".format(first_node, second_node))\n",
    "    \n",
    "    return (first_node, second_node)\n",
    "\n",
    "# just run it once\n",
    "sample_pair_randomly(current_network)"
   ]
  },
  {
   "cell_type": "code",
   "execution_count": 24,
   "metadata": {},
   "outputs": [
    {
     "data": {
      "text/plain": [
       "(321, 563)"
      ]
     },
     "execution_count": 24,
     "metadata": {},
     "output_type": "execute_result"
    }
   ],
   "source": [
    "def sample_pair_through_centrality(nx_graph, node_2_centrality):\n",
    "    # think about passing directly the node list if we need to do it a lot...\n",
    "    node_list = list(nx_graph.nodes)\n",
    "    weights = [node_2_centrality[n] for n in node_list]\n",
    "    first_node = pick_random_nodes(node_list, n=1, weights=weights)[0]\n",
    "    second_node = sample_neighbors_of_node(nx_graph, first_node)[0]\n",
    "    \n",
    "    return (first_node, second_node)\n",
    "\n",
    "# just run it once\n",
    "sample_pair_through_centrality(current_network, node_2_centrality)"
   ]
  },
  {
   "cell_type": "markdown",
   "metadata": {},
   "source": [
    "_As a numerical test run 1000 times the centrality one for two networks and check how distributions get skewed..._"
   ]
  },
  {
   "cell_type": "code",
   "execution_count": 25,
   "metadata": {},
   "outputs": [
    {
     "name": "stdout",
     "output_type": "stream",
     "text": [
      "\n",
      "barabasi most sampled pairs:\n",
      "[(6, 17), (7, 15), (11, 13), (1, 12), (9, 11), (14, 10), (120, 10), (39, 9), (272, 9), (149, 9)]\n",
      "\n",
      "erdos most sampled pairs:\n",
      "[(513, 8), (208, 7), (800, 7), (572, 7), (658, 6), (313, 6), (236, 6), (645, 6), (217, 6), (117, 6)]\n"
     ]
    }
   ],
   "source": [
    "for test_network_type in ['barabasi', 'erdos']:\n",
    "    test_network = get_network_by_type_and_settings(test_network_type, NETWORK_PARAMS[test_network_type])\n",
    "    test_node_2_centrality = calculate_network_centrality(test_network, 'pagerank')\n",
    "    # run the sampling 100 times...\n",
    "    sampled_pairs = [sample_pair_through_centrality(test_network, test_node_2_centrality) for _ in range(1000)]\n",
    "    # flatten the pairs and count them \n",
    "    cnt_nodes = Counter([item for sublist in sampled_pairs for item in sublist])\n",
    "    print(\"\\n{} most sampled pairs:\".format(test_network_type))\n",
    "    print(cnt_nodes.most_common(10))"
   ]
  },
  {
   "cell_type": "markdown",
   "metadata": {},
   "source": [
    "_Now test the sampling function always returns data as expected running them with different configs and network_"
   ]
  },
  {
   "cell_type": "code",
   "execution_count": 26,
   "metadata": {},
   "outputs": [
    {
     "name": "stdout",
     "output_type": "stream",
     "text": [
      "erdos degree\n",
      "erdos pagerank\n",
      "erdos betweeness\n",
      "watts degree\n",
      "watts pagerank\n",
      "watts betweeness\n",
      "barabasi degree\n",
      "barabasi pagerank\n",
      "barabasi betweeness\n"
     ]
    }
   ],
   "source": [
    "TEST_SIZE = 10\n",
    "for n_t in NETWORK_TOPOLOGIES:\n",
    "    for c_m in CENTRALITY_MEASURES:\n",
    "        print(n_t, c_m)\n",
    "        c_network = get_network_by_type_and_settings(n_t, NETWORK_PARAMS[n_t])\n",
    "        n_2_centrality = calculate_network_centrality(c_network, c_m)\n",
    "        for _ in range(TEST_SIZE):\n",
    "            # half the time, sample with centrality, half the time randomly\n",
    "            if _ % 2 == 0:\n",
    "                s_pair = sample_pair_through_centrality(c_network, n_2_centrality)\n",
    "            else:\n",
    "                s_pair = sample_pair_randomly(c_network)\n",
    "            # check we have results\n",
    "            assert len(s_pair) == 2 and all(s is not None for s in s_pair)"
   ]
  },
  {
   "cell_type": "markdown",
   "metadata": {},
   "source": [
    "Finally show how to apply the \"Friendship paradox\" to sample highly central individuals without assuming a bird-eye of the entire network and all the centrality values..\n",
    "\n",
    "https://www.ncbi.nlm.nih.gov/pmc/articles/PMC2939797/ \n",
    "    \n",
    "https://en.wikipedia.org/wiki/Friendship_paradox"
   ]
  },
  {
   "cell_type": "code",
   "execution_count": 27,
   "metadata": {},
   "outputs": [
    {
     "data": {
      "text/plain": [
       "(820, 100)"
      ]
     },
     "execution_count": 27,
     "metadata": {},
     "output_type": "execute_result"
    }
   ],
   "source": [
    "def sample_pair_through_friends(nx_graph):\n",
    "    # sample a pair of nodes first \n",
    "    first_node, second_node = sample_pair_randomly(nx_graph)\n",
    "    # we discard the first one, and consider its friend - the second one - as the new first one\n",
    "    friend_node = sample_neighbors_of_node(nx_graph, second_node)[0]\n",
    "    \n",
    "    return (second_node, friend_node)\n",
    "\n",
    "# just run it once\n",
    "sample_pair_through_friends(current_network)"
   ]
  },
  {
   "cell_type": "markdown",
   "metadata": {},
   "source": [
    "_Finally test if the centrality is actually better than random..._"
   ]
  },
  {
   "cell_type": "code",
   "execution_count": 28,
   "metadata": {},
   "outputs": [
    {
     "name": "stdout",
     "output_type": "stream",
     "text": [
      "Total centrality random: 0.09852442370794876\n",
      "\n",
      "Total centrality with friends: 0.11891831810825038\n"
     ]
    }
   ],
   "source": [
    "test_network = get_network_by_type_and_settings('barabasi', NETWORK_PARAMS['barabasi'])\n",
    "test_node_2_centrality = calculate_network_centrality(test_network, 'betweeness')\n",
    "N = 10\n",
    "# run the sampling 10 times... with pure random vs friend sampling\n",
    "sampled_pairs = [sample_pair_randomly(test_network) for _ in range(N)]\n",
    "# flatten the pairs and map them to centrality\n",
    "total_centrality = sum([test_node_2_centrality[i] for i in [item for sublist in sampled_pairs for item in sublist]])\n",
    "print(\"Total centrality random: {}\\n\".format(total_centrality))\n",
    "# now do the same with friend sampling\n",
    "sampled_pairs = [sample_pair_through_friends(test_network) for _ in range(N)]\n",
    "# flatten the pairs and map them to centrality\n",
    "total_centrality = sum([test_node_2_centrality[i] for i in [item for sublist in sampled_pairs for item in sublist]])\n",
    "print(\"Total centrality with friends: {}\".format(total_centrality))"
   ]
  },
  {
   "cell_type": "markdown",
   "metadata": {},
   "source": [
    "### Test edge cardinality"
   ]
  },
  {
   "cell_type": "markdown",
   "metadata": {},
   "source": [
    "For the 'watts' topology, number of edges depends only on the K value (the second param). If k is even,\n",
    "n of edges will be = N of nodes * k / 2"
   ]
  },
  {
   "cell_type": "code",
   "execution_count": 29,
   "metadata": {},
   "outputs": [
    {
     "name": "stdout",
     "output_type": "stream",
     "text": [
      "3000\n",
      "2000\n",
      "3000\n",
      "2000\n"
     ]
    }
   ],
   "source": [
    "c_network = get_network_by_type_and_settings('watts', [N_NODES, 6, 0.5])\n",
    "print(c_network.number_of_edges())\n",
    "c_network = get_network_by_type_and_settings('watts', [N_NODES, 4, 0.2])\n",
    "print(c_network.number_of_edges())\n",
    "c_network = get_network_by_type_and_settings('watts', [N_NODES, 6, 0.2])\n",
    "print(c_network.number_of_edges())\n",
    "c_network = get_network_by_type_and_settings('watts', [N_NODES, 4, 0.5])\n",
    "print(c_network.number_of_edges())"
   ]
  },
  {
   "cell_type": "code",
   "execution_count": 30,
   "metadata": {},
   "outputs": [
    {
     "name": "stdout",
     "output_type": "stream",
     "text": [
      "2 1000\n",
      "4 2000\n",
      "6 3000\n",
      "8 4000\n",
      "10 5000\n",
      "12 6000\n",
      "14 7000\n",
      "16 8000\n",
      "18 9000\n"
     ]
    }
   ],
   "source": [
    "for _ in range (2, 20, 2):\n",
    "    c_network = get_network_by_type_and_settings('watts', [N_NODES, _, 0.1])\n",
    "    print(_, c_network.number_of_edges())"
   ]
  },
  {
   "cell_type": "code",
   "execution_count": 31,
   "metadata": {},
   "outputs": [],
   "source": [
    "# sample function allowing to control for edge number instead than k\n",
    "def create_watts_with_nodes_and_edges(n_nodes, n_edges, rewriting_prob=0.15):\n",
    "    k = int((n_edges * 2) / n_nodes)\n",
    "    return k, nx.connected_watts_strogatz_graph(n=n_nodes, k=k, p=rewriting_prob)\n",
    "\n",
    "for _ in range (1000, 10000, 1000):\n",
    "    k, c_network = create_watts_with_nodes_and_edges(N_NODES, _)\n",
    "    assert _ == c_network.number_of_edges()"
   ]
  },
  {
   "cell_type": "markdown",
   "metadata": {},
   "source": [
    "For random networks, the number of edges is proportional to the probability of each link being drawn (links are statistically independent and are controlled by the only free params _p_ in the constructor). Considering undirected graphs, the number of pairs is nodes^2 / 2 (to remove same pairs with different ordering) - so the \"expected\" edge number will be equal to = PAIRS * p \n"
   ]
  },
  {
   "cell_type": "code",
   "execution_count": 32,
   "metadata": {},
   "outputs": [
    {
     "name": "stdout",
     "output_type": "stream",
     "text": [
      "0.1 49668 50000.0\n",
      "0.2 99909 100000.0\n",
      "0.3 150014 150000.0\n",
      "0.4 200438 200000.0\n",
      "0.5 249543 250000.0\n",
      "0.6 300048 300000.0\n",
      "0.7 349926 350000.0\n",
      "0.8 399645 400000.0\n"
     ]
    }
   ],
   "source": [
    "for _ in range (1, 9):\n",
    "    c_network = get_network_by_type_and_settings('erdos', [N_NODES, _ / 10])\n",
    "    # check numbers\n",
    "    print(_ / 10, c_network.number_of_edges(), ((N_NODES * N_NODES) / 2)  * _ / 10)"
   ]
  },
  {
   "cell_type": "code",
   "execution_count": 33,
   "metadata": {},
   "outputs": [],
   "source": [
    "# sample function allowing to control for edge number\n",
    "def create_erdos_with_nodes_and_edges(n_nodes, n_edges):\n",
    "    p = n_edges / ((n_nodes * n_nodes) / 2)\n",
    "    c_network = get_network_by_type_and_settings('erdos', [n_nodes, p])\n",
    "    # debug\n",
    "    # print(p, n_edges, c_network.number_of_edges())\n",
    "    return p, c_network\n",
    "\n",
    "for _ in range (1000, 10000, 1000):\n",
    "    p, c_network = create_erdos_with_nodes_and_edges(N_NODES, _)\n",
    "    assert abs(_ - c_network.number_of_edges()) < (_ * 0.05)"
   ]
  },
  {
   "cell_type": "markdown",
   "metadata": {},
   "source": [
    "The barabasi network is grown up to N by attaching new nodes each with M edges that are preferentially attached to existing nodes with high degree, generating the characteristic distribution. Number of edges is -> N * m, minus correction for the first K node for which we cannot generate all the edges."
   ]
  },
  {
   "cell_type": "code",
   "execution_count": 34,
   "metadata": {},
   "outputs": [
    {
     "name": "stdout",
     "output_type": "stream",
     "text": [
      "4975 125000\n",
      "9900 1000000\n",
      "60775 274625000\n"
     ]
    }
   ],
   "source": [
    "c_network = get_network_by_type_and_settings('barabasi', [N_NODES, 5])\n",
    "print(c_network.number_of_edges(), N_NODES * 5 * pow(5, 2))\n",
    "c_network = get_network_by_type_and_settings('barabasi', [N_NODES, 10])\n",
    "print(c_network.number_of_edges(), N_NODES * 10 * pow(10, 2))\n",
    "c_network = get_network_by_type_and_settings('barabasi', [N_NODES, 65])\n",
    "print(c_network.number_of_edges(), N_NODES * 65 * pow(65, 2))"
   ]
  },
  {
   "cell_type": "markdown",
   "metadata": {},
   "source": [
    "Given the nature of the relation, two values may generate same N of edges, with VERY different distribution - as for example 5 and 995"
   ]
  },
  {
   "cell_type": "code",
   "execution_count": 35,
   "metadata": {},
   "outputs": [
    {
     "name": "stdout",
     "output_type": "stream",
     "text": [
      "4975\n"
     ]
    },
    {
     "data": {
      "image/png": "[encoded data removed]",
      "text/plain": [
       "<Figure size 432x288 with 1 Axes>"
      ]
     },
     "metadata": {},
     "output_type": "display_data"
    },
    {
     "name": "stdout",
     "output_type": "stream",
     "text": [
      "4975\n"
     ]
    },
    {
     "data": {
      "image/png": "[encoded data removed]",
      "text/plain": [
       "<Figure size 432x288 with 1 Axes>"
      ]
     },
     "metadata": {},
     "output_type": "display_data"
    },
    {
     "name": "stdout",
     "output_type": "stream",
     "text": [
      "9900\n"
     ]
    },
    {
     "data": {
      "image/png": "[encoded data removed]",
      "text/plain": [
       "<Figure size 432x288 with 1 Axes>"
      ]
     },
     "metadata": {},
     "output_type": "display_data"
    },
    {
     "name": "stdout",
     "output_type": "stream",
     "text": [
      "9900\n"
     ]
    },
    {
     "data": {
      "image/png": "[encoded data removed]",
      "text/plain": [
       "<Figure size 432x288 with 1 Axes>"
      ]
     },
     "metadata": {},
     "output_type": "display_data"
    }
   ],
   "source": [
    "for _ in [(5, 995), (10, 990)]:\n",
    "    ba = nx.barabasi_albert_graph(N_NODES, _[0])\n",
    "    print(ba.number_of_edges())\n",
    "    plot_distribution(ba, bins=50, label='Barabasi-Albert graph')\n",
    "    ba = nx.barabasi_albert_graph(N_NODES, _[1])\n",
    "    print(ba.number_of_edges())\n",
    "    plot_distribution(ba, bins=50, label='Barabasi-Albert graph')"
   ]
  },
  {
   "cell_type": "code",
   "execution_count": 36,
   "metadata": {},
   "outputs": [
    {
     "data": {
      "text/plain": [
       "(5.0, 995.0)"
      ]
     },
     "execution_count": 36,
     "metadata": {},
     "output_type": "execute_result"
    }
   ],
   "source": [
    "def solve_poly(a, b, c):\n",
    "    # ax**2 + bx + c = 0\n",
    "    # calculate the discriminant\n",
    "    d = (b**2) - (4*a*c)\n",
    "    # return two solutions\n",
    "    return (-b - math.sqrt(d))/(2*a), (-b + math.sqrt(d))/(2*a)\n",
    "\n",
    "# debug\n",
    "a = 1\n",
    "b = -1000\n",
    "c = 4975\n",
    "solve_poly(1, -1000, 4975)"
   ]
  },
  {
   "cell_type": "code",
   "execution_count": 37,
   "metadata": {},
   "outputs": [
    {
     "name": "stdout",
     "output_type": "stream",
     "text": [
      "1 1000 999 (1.0010020050140156, 998.998997994986)\n",
      "2 2000 1996 (2.004016080450697, 997.9959839195493)\n",
      "3 3000 2991 (3.0090544084329167, 996.9909455915671)\n",
      "4 4000 3984 (4.016129294510222, 995.9838707054898)\n",
      "5 5000 4975 (5.025253169416715, 994.9747468305833)\n",
      "6 6000 5964 (6.0364385908612235, 993.9635614091387)\n",
      "7 7000 6951 (7.049698245350498, 992.9503017546494)\n",
      "8 8000 7936 (8.065044950046286, 991.9349550499537)\n",
      "9 9000 8919 (9.082491654656906, 990.9175083453431)\n"
     ]
    }
   ],
   "source": [
    "# sample function allowing to control for edge number\n",
    "def create_barabasi_with_nodes_and_edges(n_nodes, n_edges):\n",
    "    solutions = solve_poly(1, n_nodes * -1.0, n_edges)\n",
    "    m = int(min(solutions))\n",
    "    c_network = get_network_by_type_and_settings('barabasi', [n_nodes, m])\n",
    "    # debug\n",
    "    print(m, n_edges, c_network.number_of_edges(), solutions)\n",
    "    return m, c_network\n",
    "\n",
    "for _ in range (1000, 10000, 1000):\n",
    "    m, c_network = create_barabasi_with_nodes_and_edges(N_NODES, _)\n",
    "    assert abs(_ - c_network.number_of_edges()) < (_ * 0.05)"
   ]
  }
 ],
 "metadata": {
  "kernelspec": {
   "display_name": "Python [conda env:anaconda3]",
   "language": "python",
   "name": "conda-env-anaconda3-py"
  },
  "language_info": {
   "codemirror_mode": {
    "name": "ipython",
    "version": 3
   },
   "file_extension": ".py",
   "mimetype": "text/x-python",
   "name": "python",
   "nbconvert_exporter": "python",
   "pygments_lexer": "ipython3",
   "version": "3.6.5"
  }
 },
 "nbformat": 4,
 "nbformat_minor": 2
}
