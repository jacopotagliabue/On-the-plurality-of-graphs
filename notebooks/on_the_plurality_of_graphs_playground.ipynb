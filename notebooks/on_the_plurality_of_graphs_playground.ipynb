{
 "cells": [
  {
   "cell_type": "markdown",
   "metadata": {},
   "source": [
    "## ON THE PLURALITY OF GRAPHS\n",
    "\n",
    "Small _network-based_ playground to create sample graphs on which to play Lewis signaling games ;-)"
   ]
  },
  {
   "cell_type": "markdown",
   "metadata": {},
   "source": [
    "### Installation and imports"
   ]
  },
  {
   "cell_type": "markdown",
   "metadata": {},
   "source": [
    "_First make sure we have networkx updated as v 2.0 had some API changes and we want to avoid troubles_"
   ]
  },
  {
   "cell_type": "code",
   "execution_count": 1,
   "metadata": {},
   "outputs": [],
   "source": [
    "# ! pip install networkx --upgrade"
   ]
  },
  {
   "cell_type": "markdown",
   "metadata": {},
   "source": [
    "_Install also the nice powerlaw package if we want to run also the power law analysis_"
   ]
  },
  {
   "cell_type": "code",
   "execution_count": 2,
   "metadata": {},
   "outputs": [],
   "source": [
    "# ! pip install powerlaw"
   ]
  },
  {
   "cell_type": "code",
   "execution_count": 19,
   "metadata": {},
   "outputs": [],
   "source": [
    "import networkx as nx\n",
    "import powerlaw\n",
    "import matplotlib.pyplot as plt\n",
    "import numpy as np\n",
    "from random import choice"
   ]
  },
  {
   "cell_type": "code",
   "execution_count": 4,
   "metadata": {},
   "outputs": [],
   "source": [
    "%matplotlib inline"
   ]
  },
  {
   "cell_type": "markdown",
   "metadata": {},
   "source": [
    "### Simulation variables"
   ]
  },
  {
   "cell_type": "code",
   "execution_count": 5,
   "metadata": {},
   "outputs": [],
   "source": [
    "N_NODES = 1000\n",
    "NETWORK_PARAMS = dict()"
   ]
  },
  {
   "cell_type": "markdown",
   "metadata": {},
   "source": [
    "Settings for barabasi-albert graph - scale free with pref attachment\n",
    "\n",
    "https://en.wikipedia.org/wiki/Barab%C3%A1si%E2%80%93Albert_model\n",
    "\n",
    "https://networkx.github.io/documentation/stable/reference/generated/networkx.generators.random_graphs.barabasi_albert_graph.html?highlight=barabasi_albert_graph#networkx.generators.random_graphs.barabasi_albert_graph"
   ]
  },
  {
   "cell_type": "code",
   "execution_count": 6,
   "metadata": {},
   "outputs": [],
   "source": [
    "NETWORK_PARAMS['barabasi'] = [N_NODES, 5] "
   ]
  },
  {
   "cell_type": "markdown",
   "metadata": {},
   "source": [
    "Settings for Erdős–Rényi model - random graph\n",
    "\n",
    "https://en.wikipedia.org/wiki/Erd%C5%91s%E2%80%93R%C3%A9nyi_model\n",
    "\n",
    "https://networkx.github.io/documentation/stable/reference/generated/networkx.generators.random_graphs.erdos_renyi_graph.html?highlight=erdos_renyi_graph#networkx.generators.random_graphs.erdos_renyi_graph"
   ]
  },
  {
   "cell_type": "code",
   "execution_count": 7,
   "metadata": {},
   "outputs": [],
   "source": [
    "NETWORK_PARAMS['erdos'] = [N_NODES, 0.15]"
   ]
  },
  {
   "cell_type": "markdown",
   "metadata": {},
   "source": [
    "Settings for the Watts–Strogatz - \"small-world graph\", including short average path lengths and high clustering (six-degrees of separation kind of thing) \n",
    "\n",
    "https://en.wikipedia.org/wiki/Watts%E2%80%93Strogatz_model\n",
    "\n",
    "https://networkx.github.io/documentation/stable/reference/generated/networkx.generators.random_graphs.watts_strogatz_graph.html?highlight=watts_strogatz_graph#networkx.generators.random_graphs.watts_strogatz_graph"
   ]
  },
  {
   "cell_type": "code",
   "execution_count": 8,
   "metadata": {},
   "outputs": [],
   "source": [
    "NETWORK_PARAMS['watts'] = [N_NODES, 3, 0.1]"
   ]
  },
  {
   "cell_type": "markdown",
   "metadata": {},
   "source": [
    "### Some graph / chart / stats utils functions"
   ]
  },
  {
   "cell_type": "code",
   "execution_count": 9,
   "metadata": {},
   "outputs": [],
   "source": [
    "def draw_network(nx_graph, node_color='black', node_size=100, width=3):\n",
    "    options = {\n",
    "        'node_color': node_color,\n",
    "        'node_size': node_size,\n",
    "        'width': width\n",
    "    }\n",
    "    nx.draw(nx_graph, with_labels=True, font_weight='bold', **options)\n",
    "    plt.show()"
   ]
  },
  {
   "cell_type": "code",
   "execution_count": 10,
   "metadata": {},
   "outputs": [],
   "source": [
    "def get_all_degrees(nx_graph):\n",
    "    return [d for n, d in nx_graph.degree()]"
   ]
  },
  {
   "cell_type": "code",
   "execution_count": 11,
   "metadata": {},
   "outputs": [],
   "source": [
    "def plot_degree_distribution(nx_graph, bins=20, label='My Graph'):\n",
    "    \"\"\"\n",
    "    Convenient function that retrieves all degree and bins them to visualize distribution\n",
    "    \"\"\" \n",
    "    all_degrees = get_all_degrees(nx_graph)\n",
    "    plt.hist(all_degrees, bins=bins)\n",
    "    plt.title(\"Degree Frequency Distribution for {}\".format(label))\n",
    "    plt.show()"
   ]
  },
  {
   "cell_type": "code",
   "execution_count": 12,
   "metadata": {},
   "outputs": [],
   "source": [
    "def fit_power_law_to_data(data, alternative_distribution='lognormal', target_file=None):\n",
    "    \"\"\"\n",
    "    Use fantastic powerlaw package based on SFI paper -> https://arxiv.org/pdf/1305.0215.pdf\n",
    "    \"\"\"\n",
    "    # fit a discrete powerlaw here\n",
    "    results = powerlaw.Fit(data, discrete=True)\n",
    "    alpha = results.power_law.alpha\n",
    "    xmin = results.power_law.xmin\n",
    "    R, p = results.distribution_compare('power_law', alternative_distribution, normalized_ratio=True)\n",
    "    fig2 = results.plot_ccdf(color='b', linewidth=2)\n",
    "    results.power_law.plot_ccdf(color='r', linestyle='--', ax=fig2)\n",
    "    # save to disk if a path is specified\n",
    "    if target_file:\n",
    "        fig2.figure.savefig(target_file)\n",
    "    \n",
    "    return alpha, xmin, R, p, results.truncated_power_law.alpha"
   ]
  },
  {
   "cell_type": "markdown",
   "metadata": {},
   "source": [
    "### Interlude: Test out networkx general functions"
   ]
  },
  {
   "cell_type": "markdown",
   "metadata": {},
   "source": [
    "First, test out networkx generation capabilities on two types of graphs"
   ]
  },
  {
   "cell_type": "code",
   "execution_count": 13,
   "metadata": {},
   "outputs": [
    {
     "data": {
      "image/png": "[encoded data removed]",
      "text/plain": [
       "<Figure size 432x288 with 1 Axes>"
      ]
     },
     "metadata": {},
     "output_type": "display_data"
    }
   ],
   "source": [
    "# generate graph with params\n",
    "er = nx.erdos_renyi_graph(*NETWORK_PARAMS['erdos'])\n",
    "# plot distribution\n",
    "plot_degree_distribution(er, bins=20, label='Erdős–Rényi graph')"
   ]
  },
  {
   "cell_type": "code",
   "execution_count": 14,
   "metadata": {},
   "outputs": [
    {
     "data": {
      "image/png": "[encoded data removed]",
      "text/plain": [
       "<Figure size 432x288 with 1 Axes>"
      ]
     },
     "metadata": {},
     "output_type": "display_data"
    }
   ],
   "source": [
    "# generate graph with params\n",
    "ba = nx.barabasi_albert_graph(*NETWORK_PARAMS['barabasi'])\n",
    "# plot distribution\n",
    "plot_degree_distribution(ba, bins=50, label='Barabasi-Albert graph')\n",
    "# fit a powerlaw"
   ]
  },
  {
   "cell_type": "markdown",
   "metadata": {},
   "source": [
    "_Check degree distribution using the nice powerlaw package from http://www.plosone.org/article/info%3Adoi%2F10.1371%2Fjournal.pone.0085777_"
   ]
  },
  {
   "cell_type": "code",
   "execution_count": 15,
   "metadata": {},
   "outputs": [
    {
     "name": "stderr",
     "output_type": "stream",
     "text": [
      "Calculating best minimal value for power law fit\n",
      "/Users/jacopotagliabue/anaconda3/lib/python3.6/site-packages/powerlaw.py:700: RuntimeWarning: invalid value encountered in true_divide\n",
      "  (Theoretical_CDF * (1 - Theoretical_CDF))\n",
      "/Users/jacopotagliabue/anaconda3/lib/python3.6/site-packages/powerlaw.py:700: RuntimeWarning: divide by zero encountered in true_divide\n",
      "  (Theoretical_CDF * (1 - Theoretical_CDF))\n"
     ]
    },
    {
     "name": "stdout",
     "output_type": "stream",
     "text": [
      "Alpha value for p-law: 2.7232458325499582\n",
      "Loglikelihood ratio between the two candidate distributions is 5.485721387452518, favoring powerlaw\n",
      "The significance value for the ratio is 4.1178547967911066e-08\n"
     ]
    },
    {
     "data": {
      "image/png": "[encoded data removed]",
      "text/plain": [
       "<Figure size 432x288 with 1 Axes>"
      ]
     },
     "metadata": {},
     "output_type": "display_data"
    }
   ],
   "source": [
    "# check goodness of fit against a natural candidate -> see https://arxiv.org/pdf/1305.0215.pdf\n",
    "alternative_distribution = 'exponential'\n",
    "alpha, xmin, R, p, t_alpha = fit_power_law_to_data(get_all_degrees(ba), alternative_distribution=alternative_distribution)\n",
    "print(\"Alpha value for p-law: {}\".format(alpha))\n",
    "print(\"Loglikelihood ratio between the two candidate distributions is {}, favoring {}\".format(R,\n",
    "                                                                                             'powerlaw' if R > 0.0 else alternative_distribution))\n",
    "print(\"The significance value for the ratio is {}\".format(p))"
   ]
  },
  {
   "cell_type": "markdown",
   "metadata": {},
   "source": [
    "_As expected, the BA network is well-represented by the power-law distribution for degrees_"
   ]
  },
  {
   "cell_type": "markdown",
   "metadata": {},
   "source": [
    "Finally, not exactly fancy, but try to draw a small graph in case we need some charts later on..."
   ]
  },
  {
   "cell_type": "code",
   "execution_count": 16,
   "metadata": {},
   "outputs": [
    {
     "data": {
      "image/png": "[encoded data removed]",
      "text/plain": [
       "<Figure size 432x288 with 1 Axes>"
      ]
     },
     "metadata": {},
     "output_type": "display_data"
    }
   ],
   "source": [
    "g = nx.petersen_graph()\n",
    "draw_network(g)"
   ]
  },
  {
   "cell_type": "markdown",
   "metadata": {},
   "source": [
    "### Generating networks and sampling strategies"
   ]
  },
  {
   "cell_type": "code",
   "execution_count": 73,
   "metadata": {},
   "outputs": [],
   "source": [
    "def pick_random_node(nx_graph):\n",
    "    return choice(list(nx_graph.nodes))"
   ]
  },
  {
   "cell_type": "code",
   "execution_count": 74,
   "metadata": {},
   "outputs": [],
   "source": [
    "def get_network_by_type_and_settings(network_type, network_settings):\n",
    "    \"\"\"\n",
    "    Network type must be one of: erdos, watts, barabasi\n",
    "    \"\"\"\n",
    "    if network_type == 'erdos':\n",
    "        return nx.erdos_renyi_graph(*network_settings)\n",
    "    elif network_type == 'watts':\n",
    "        return nx.watts_strogatz_graph(*network_settings)\n",
    "    elif network_type == 'barabasi':\n",
    "        return nx.barabasi_albert_graph(*network_settings)\n",
    "    else:\n",
    "        raise Exception(\"Unknown type: {}\".format(network_type))"
   ]
  },
  {
   "cell_type": "code",
   "execution_count": 75,
   "metadata": {},
   "outputs": [],
   "source": [
    "def calculate_network_centrality(nx_graph, centrality_metrics):\n",
    "    \"\"\"\n",
    "    centrality_metrics must be one of 'degree', 'pagerank', 'betweeness'\n",
    "    \n",
    "    return type is always a dict(node->measure of centrality)\n",
    "    \"\"\"\n",
    "    if centrality_metrics == 'degree':\n",
    "        return nx.degree_centrality(nx_graph)\n",
    "    elif centrality_metrics == 'betweeness':\n",
    "        return nx.betweenness_centrality(nx_graph)\n",
    "    elif centrality_metrics == 'pagerank':\n",
    "        return nx.pagerank_numpy(nx_graph)\n",
    "    else:\n",
    "        raise Exception(\"Unknown metrics: {}\".format(centrality_metrics))"
   ]
  },
  {
   "cell_type": "code",
   "execution_count": 76,
   "metadata": {},
   "outputs": [
    {
     "name": "stdout",
     "output_type": "stream",
     "text": [
      "Chosen topology is: barabasi, with params: [1000, 5] and centrality: betweeness\n"
     ]
    }
   ],
   "source": [
    "# list options\n",
    "NETWORK_TOPOLOGIES = ['erdos', 'watts', 'barabasi']\n",
    "# pick one randomly here\n",
    "current_topology = choice(NETWORK_TOPOLOGIES)\n",
    "# list options\n",
    "CENTRALITY_MEASURES = ['degree', 'pagerank', 'betweeness']\n",
    "# pick one randomly here\n",
    "current_centrality_measure = choice(CENTRALITY_MEASURES)\n",
    "print(\"Chosen topology is: {}, with params: {} and centrality: {}\".format(current_topology, \n",
    "                                                                          NETWORK_PARAMS[current_topology],\n",
    "                                                                          current_centrality_measure))"
   ]
  },
  {
   "cell_type": "code",
   "execution_count": 77,
   "metadata": {},
   "outputs": [
    {
     "data": {
      "image/png": "[encoded data removed]",
      "text/plain": [
       "<Figure size 432x288 with 1 Axes>"
      ]
     },
     "metadata": {},
     "output_type": "display_data"
    },
    {
     "name": "stdout",
     "output_type": "stream",
     "text": [
      "0 0.05192671484742907\n",
      "1 0.027865702998640874\n",
      "2 0.052405538641357066\n",
      "3 0.0076813087103280876\n",
      "4 0.02039071136774053\n",
      "5 0.08211025019532313\n",
      "6 0.10253970152454991\n",
      "7 0.04640974467051477\n",
      "8 0.014363527791577785\n",
      "9 0.03297165713885735\n"
     ]
    }
   ],
   "source": [
    "# generate network\n",
    "current_network = get_network_by_type_and_settings(current_topology, NETWORK_PARAMS[current_topology])\n",
    "# plot distribution\n",
    "plot_degree_distribution(current_network, bins=20, label='\"{}\" topology'.format(current_topology))\n",
    "# get centrality\n",
    "node_2_centrality = calculate_network_centrality(current_network, current_centrality_measure)\n",
    "# print out some sample centrality values for debug\n",
    "for n in list(node_2_centrality.keys())[:10]:\n",
    "    print(n, node_2_centrality[n])"
   ]
  },
  {
   "cell_type": "code",
   "execution_count": 81,
   "metadata": {},
   "outputs": [],
   "source": [
    "def sample_neighbors_of_node(nx_graph, source_node, topn=1):\n",
    "    \"\"\"\n",
    "    Get neighboring nodes and then return N random ones up until the topn\n",
    "    \"\"\"\n",
    "    neighbors = [n for n in nx_graph.neighbors(source_node)]\n",
    "    # we shouldn't have disconnected graphs, but check to avoid weird things..\n",
    "    assert len(neighbors) > 0\n",
    "    \n",
    "    # check N are not less than the requested amount\n",
    "    if topn >= len(neighbors):\n",
    "        return neighbors\n",
    "    \n",
    "    # return random subset\n",
    "    return np.random.choice(neighbors, topn, replace=False)"
   ]
  },
  {
   "cell_type": "code",
   "execution_count": 82,
   "metadata": {},
   "outputs": [],
   "source": [
    "def sample_pair_randomly(nx_graph, verbose=False):\n",
    "    first_node = pick_random_node(nx_graph)\n",
    "    second_node = sample_neighbors_of_node(nx_graph, first_node)[0]\n",
    "    if verbose:\n",
    "        print(\"Sampled {} and {}\".format(first_node, second_node))\n",
    "    \n",
    "    return (first_node, second_node)"
   ]
  },
  {
   "cell_type": "code",
   "execution_count": 83,
   "metadata": {},
   "outputs": [],
   "source": [
    "def sample_pair_through_centrality(nx_graph):\n",
    "    first_node = pick_random_node(nx_graph)\n",
    "    second_node = sample_neighbors_of_node(nx_graph, first_node)[0]\n",
    "    \n",
    "    return (first_node, second_node)"
   ]
  },
  {
   "cell_type": "markdown",
   "metadata": {},
   "source": [
    "_Now test all the function return data as expected running them with different configs and network_"
   ]
  },
  {
   "cell_type": "code",
   "execution_count": 84,
   "metadata": {},
   "outputs": [
    {
     "data": {
      "text/plain": [
       "(88, 243)"
      ]
     },
     "execution_count": 84,
     "metadata": {},
     "output_type": "execute_result"
    }
   ],
   "source": [
    "sample_pair_randomly(current_network)"
   ]
  },
  {
   "cell_type": "markdown",
   "metadata": {},
   "source": [
    "Finally show how to apply the \"Friendship paradox\" to sample highly central individuals without assuming a bird-eye of the entire network and all the centrality values..\n",
    "\n",
    "https://www.ncbi.nlm.nih.gov/pmc/articles/PMC2939797/ \n",
    "    \n",
    "https://en.wikipedia.org/wiki/Friendship_paradox"
   ]
  },
  {
   "cell_type": "code",
   "execution_count": null,
   "metadata": {},
   "outputs": [],
   "source": [
    "def sample_pair_through_friends():\n",
    "    \n",
    "    return "
   ]
  }
 ],
 "metadata": {
  "kernelspec": {
   "display_name": "Python [conda env:anaconda3]",
   "language": "python",
   "name": "conda-env-anaconda3-py"
  },
  "language_info": {
   "codemirror_mode": {
    "name": "ipython",
    "version": 3
   },
   "file_extension": ".py",
   "mimetype": "text/x-python",
   "name": "python",
   "nbconvert_exporter": "python",
   "pygments_lexer": "ipython3",
   "version": "3.6.5"
  }
 },
 "nbformat": 4,
 "nbformat_minor": 2
}
